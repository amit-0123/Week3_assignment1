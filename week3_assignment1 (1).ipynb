{
 "cells": [
  {
   "cell_type": "code",
   "execution_count": 1,
   "id": "9dfd1f8a-79e6-4ff9-9974-a9f26a4600ff",
   "metadata": {},
   "outputs": [],
   "source": [
    "# Ans1 :\n",
    "#  We use the keyword \"def\" to make function which is used for external function and lambda is a inbuilt python function ,it is also used tp create function.\n",
    "l=[]\n",
    "def odd(n):\n",
    "    i=1\n",
    "    for i in range(n):\n",
    "        if(i%2!=0):\n",
    "            l.append(i)  \n",
    "        i=i+1\n",
    "    return l"
   ]
  },
  {
   "cell_type": "code",
   "execution_count": 2,
   "id": "c881ca3a-0575-4126-9d6e-4fbe3ed04995",
   "metadata": {},
   "outputs": [
    {
     "data": {
      "text/plain": [
       "[1, 3, 5, 7, 9, 11, 13, 15, 17, 19, 21, 23]"
      ]
     },
     "execution_count": 2,
     "metadata": {},
     "output_type": "execute_result"
    }
   ],
   "source": [
    "odd(25)"
   ]
  },
  {
   "cell_type": "code",
   "execution_count": 3,
   "id": "ae1af473-c530-44fa-8b28-5badc2904464",
   "metadata": {},
   "outputs": [
    {
     "data": {
      "text/plain": [
       "(1, 3, 7, 'amit', 19, 'yadav')"
      ]
     },
     "execution_count": 3,
     "metadata": {},
     "output_type": "execute_result"
    }
   ],
   "source": [
    "# Ans 2:\n",
    "#  *args is used to take input and give output as tupple and of variable length whrere as **kwargs is used to take input and give output as dictionary\n",
    "# These are used as parameter.\n",
    "\n",
    "def demo(*args):\n",
    "    return args\n",
    "demo(1,3,7,\"amit\",19,\"yadav\")"
   ]
  },
  {
   "cell_type": "code",
   "execution_count": 4,
   "id": "8dfad442-2355-4bff-a54d-b55e3928c216",
   "metadata": {},
   "outputs": [
    {
     "data": {
      "text/plain": [
       "{'a': 1, 'b': 5, 'c': 'amit'}"
      ]
     },
     "execution_count": 4,
     "metadata": {},
     "output_type": "execute_result"
    }
   ],
   "source": [
    "def check(**kwargs):\n",
    "    return  kwargs\n",
    "check(a=1,b=5,c=\"amit\")"
   ]
  },
  {
   "cell_type": "code",
   "execution_count": 5,
   "id": "6da4a457-5d87-4133-bf63-846808402b42",
   "metadata": {},
   "outputs": [],
   "source": [
    "l=[2,4,6,8,10,12,14,16,18,20]\n",
    "s1=iter(l)"
   ]
  },
  {
   "cell_type": "code",
   "execution_count": 6,
   "id": "8077ffed-fd88-4e20-894e-ef1c2e3f6e51",
   "metadata": {},
   "outputs": [
    {
     "data": {
      "text/plain": [
       "2"
      ]
     },
     "execution_count": 6,
     "metadata": {},
     "output_type": "execute_result"
    }
   ],
   "source": [
    "next(s1)"
   ]
  },
  {
   "cell_type": "code",
   "execution_count": 7,
   "id": "742a7193-6bf6-4f40-9798-b274f30c123e",
   "metadata": {},
   "outputs": [
    {
     "data": {
      "text/plain": [
       "4"
      ]
     },
     "execution_count": 7,
     "metadata": {},
     "output_type": "execute_result"
    }
   ],
   "source": [
    "next(s1)"
   ]
  },
  {
   "cell_type": "code",
   "execution_count": 8,
   "id": "57334b43-ae67-465b-907c-f465ece3448a",
   "metadata": {},
   "outputs": [
    {
     "data": {
      "text/plain": [
       "6"
      ]
     },
     "execution_count": 8,
     "metadata": {},
     "output_type": "execute_result"
    }
   ],
   "source": [
    "next(s1)"
   ]
  },
  {
   "cell_type": "code",
   "execution_count": 9,
   "id": "ab287a91-cb61-4fbe-8d31-f1495907dbd7",
   "metadata": {},
   "outputs": [
    {
     "data": {
      "text/plain": [
       "8"
      ]
     },
     "execution_count": 9,
     "metadata": {},
     "output_type": "execute_result"
    }
   ],
   "source": [
    "next(s1)\n"
   ]
  },
  {
   "cell_type": "code",
   "execution_count": 10,
   "id": "a229520a-eb63-4c95-ab83-dc7351da5bc4",
   "metadata": {},
   "outputs": [
    {
     "data": {
      "text/plain": [
       "10"
      ]
     },
     "execution_count": 10,
     "metadata": {},
     "output_type": "execute_result"
    }
   ],
   "source": [
    "next(s1)"
   ]
  },
  {
   "cell_type": "code",
   "execution_count": 11,
   "id": "ae8b1660-41a9-4c8f-b009-e2acdcb174c2",
   "metadata": {},
   "outputs": [],
   "source": [
    "# Ans 4:\n",
    "\n",
    "#  A Python generator function allows to declare a function that behaves like an iterator, providing a faster and easier way to create iterators.\n",
    "#  They can be used on an abstract container of data to turn it into an iterable object like lists, dictionaries and strings.\n",
    "#  the yield keyword will convert an expression that is specified along with it to a generator object and return it to the caller.\n",
    "\n",
    "def fibo(n):\n",
    "    a,b=0,1\n",
    "    for i in range(n):\n",
    "        yield a\n",
    "        a,b=b,a+b"
   ]
  },
  {
   "cell_type": "code",
   "execution_count": 12,
   "id": "4133c46f-a8b4-4ed9-9141-0522e1752707",
   "metadata": {},
   "outputs": [
    {
     "name": "stdout",
     "output_type": "stream",
     "text": [
      "0\n",
      "1\n",
      "1\n",
      "2\n",
      "3\n",
      "5\n",
      "8\n",
      "13\n",
      "21\n",
      "34\n",
      "55\n",
      "89\n"
     ]
    }
   ],
   "source": [
    "# d=fibo(20)\n",
    "for i in fibo(12):\n",
    "    print(i)"
   ]
  },
  {
   "cell_type": "code",
   "execution_count": 13,
   "id": "fe260661-e07d-4c4d-8723-f74dca015621",
   "metadata": {},
   "outputs": [],
   "source": [
    "# Ans 5\n",
    "def prime():\n",
    "       for i in range(2, 1000):\n",
    "            for x in range(2, i):\n",
    "                if (i%x==0):\n",
    "                     break\n",
    "            else:\n",
    "                 yield i"
   ]
  },
  {
   "cell_type": "code",
   "execution_count": 14,
   "id": "e37e22a9-9801-41ad-85b8-eaa6329bd74e",
   "metadata": {},
   "outputs": [
    {
     "data": {
      "text/plain": [
       "<generator object prime at 0x7fb0af0923b0>"
      ]
     },
     "execution_count": 14,
     "metadata": {},
     "output_type": "execute_result"
    }
   ],
   "source": [
    "prime()"
   ]
  },
  {
   "cell_type": "code",
   "execution_count": 15,
   "id": "848d6bb1-8d45-49f7-b0ca-97beeb64955a",
   "metadata": {},
   "outputs": [],
   "source": [
    "d=prime()"
   ]
  },
  {
   "cell_type": "code",
   "execution_count": 16,
   "id": "6d623067-8a17-4813-8598-b1d1cc06e0e7",
   "metadata": {},
   "outputs": [
    {
     "name": "stdout",
     "output_type": "stream",
     "text": [
      "2\n",
      "3\n",
      "5\n",
      "7\n",
      "11\n",
      "13\n",
      "17\n",
      "19\n",
      "23\n",
      "29\n",
      "31\n",
      "37\n",
      "41\n",
      "43\n",
      "47\n",
      "53\n",
      "59\n",
      "61\n",
      "67\n",
      "71\n"
     ]
    }
   ],
   "source": [
    "for i  in range(20):\n",
    "    print(next(d))"
   ]
  },
  {
   "cell_type": "code",
   "execution_count": 17,
   "id": "13c61d66-32c4-4376-a6d5-72ad620b3203",
   "metadata": {},
   "outputs": [],
   "source": [
    "# Ans 6:\n",
    "\n",
    "def test_fib1():\n",
    "    a,b = 0,1\n",
    "    while True:\n",
    "        yield a \n",
    "        a,b = b , a+b"
   ]
  },
  {
   "cell_type": "code",
   "execution_count": 18,
   "id": "6c06e403-c633-45a7-bf4d-3b41ad7c213d",
   "metadata": {},
   "outputs": [],
   "source": [
    "fib=test_fib1()"
   ]
  },
  {
   "cell_type": "code",
   "execution_count": 19,
   "id": "78b8556b-0054-452e-8561-8fdda5453a53",
   "metadata": {},
   "outputs": [
    {
     "name": "stdout",
     "output_type": "stream",
     "text": [
      "0\n",
      "1\n",
      "1\n",
      "2\n",
      "3\n",
      "5\n",
      "8\n",
      "13\n",
      "21\n",
      "34\n"
     ]
    }
   ],
   "source": [
    "for i in range(10):\n",
    "    print(next(fib))"
   ]
  },
  {
   "cell_type": "code",
   "execution_count": 20,
   "id": "8c80802b-82f0-4bc8-9de8-0e0a853aeb6d",
   "metadata": {},
   "outputs": [],
   "source": [
    "# Ans 7"
   ]
  },
  {
   "cell_type": "code",
   "execution_count": 21,
   "id": "c98f74d3-aab8-4d0b-afcb-9393a5bc49d4",
   "metadata": {},
   "outputs": [
    {
     "data": {
      "text/plain": [
       "['P', 'w', 's', 'k', 'i', 'l', 'l', 's']"
      ]
     },
     "execution_count": 21,
     "metadata": {},
     "output_type": "execute_result"
    }
   ],
   "source": [
    "s=\"Pwskills\"\n",
    "list(s)"
   ]
  },
  {
   "cell_type": "code",
   "execution_count": 22,
   "id": "724d8455-fe66-4fdc-a77e-a844eda682ec",
   "metadata": {},
   "outputs": [
    {
     "name": "stdin",
     "output_type": "stream",
     "text": [
      "Enter a number 12621\n"
     ]
    },
    {
     "name": "stdout",
     "output_type": "stream",
     "text": [
      "Yes its a palindrome\n"
     ]
    }
   ],
   "source": [
    "# Ans 8:\n",
    "\n",
    "num = input(\"Enter a number\")\n",
    "if num == num[::-1]:\n",
    "\tprint(\"Yes its a palindrome\")\n",
    "else:\n",
    "\tprint(\"No, its not a palindrome\")\n"
   ]
  },
  {
   "cell_type": "code",
   "execution_count": 23,
   "id": "380e29a8-f42c-4881-ab46-8ed646ad6a14",
   "metadata": {},
   "outputs": [
    {
     "name": "stdout",
     "output_type": "stream",
     "text": [
      "21 45 93 "
     ]
    }
   ],
   "source": [
    "#  Ans 9:\n",
    "\n",
    "# Python program to print odd Numbers in a List\n",
    "\n",
    "# list of numbers\n",
    "list1 = [10, 21, 4, 45, 66, 93]\n",
    "i = 0\n",
    "\n",
    "# using while loop\n",
    "while(i < len(list1)):\n",
    "\n",
    "\t# checking condition\n",
    "\tif list1[i] % 2 != 0:\n",
    "\t\tprint(list1[i], end=\" \")\n",
    "\n",
    "\t# increment i\n",
    "\ti += 1\n"
   ]
  },
  {
   "cell_type": "code",
   "execution_count": null,
   "id": "90dc6309-a961-4391-9c1c-98cea0c5696d",
   "metadata": {},
   "outputs": [],
   "source": []
  }
 ],
 "metadata": {
  "kernelspec": {
   "display_name": "Python 3 (ipykernel)",
   "language": "python",
   "name": "python3"
  },
  "language_info": {
   "codemirror_mode": {
    "name": "ipython",
    "version": 3
   },
   "file_extension": ".py",
   "mimetype": "text/x-python",
   "name": "python",
   "nbconvert_exporter": "python",
   "pygments_lexer": "ipython3",
   "version": "3.10.8"
  }
 },
 "nbformat": 4,
 "nbformat_minor": 5
}
